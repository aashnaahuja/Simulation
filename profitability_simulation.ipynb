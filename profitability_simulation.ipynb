{
 "cells": [
  {
   "cell_type": "markdown",
   "metadata": {},
   "source": [
    "# Profitability Simulation for Warranty Policy"
   ]
  },
  {
   "cell_type": "markdown",
   "metadata": {},
   "source": [
    "## Author(s)\n",
    "\n",
    "\n",
    "Author = {\"name\": \"Aashna Ahuja\", \"affiliation\": \"UBC Sauder School of Business\"}\n"
   ]
  },
  {
   "cell_type": "markdown",
   "metadata": {},
   "source": [
    "## Purpose\n",
    " \n",
    "This notebook explores the possibilities and frequency of profitability for a camera with a given warranty policy. Per this policy, if the camera fails within 2 years, the customer receives a new camera, with the warranty continuing for the remaining duration of the initial 2 years. \n",
    "\n",
    " \n",
    "## Data Processing\n",
    "\n",
    "A given dataset of samples with the products' lifetimes was used to find the appropriate distribution to run samples from. This step was done in Arena. \n",
    "\n",
    "The appropriate distribution was found to be Weibull with shape 1.07 and scale 1.94.\n",
    "\n",
    " "
   ]
  },
  {
   "cell_type": "code",
   "execution_count": 2,
   "metadata": {},
   "outputs": [],
   "source": [
    "import numpy as np\n",
    "import matplotlib.pyplot as plt\n",
    "import math as math\n",
    "import scipy.stats as stats  "
   ]
  },
  {
   "cell_type": "code",
   "execution_count": 3,
   "metadata": {},
   "outputs": [],
   "source": [
    "#testing code to pull a random lifetime value\n",
    "\n",
    "from scipy.stats import weibull_min\n",
    "\n",
    "n = 1     # number of samples\n",
    "k = 1.07     # shape\n",
    "lam = 1.94   # scale\n",
    "\n",
    "x = weibull_min.rvs(k, loc=0, scale=lam)\n",
    "\n"
   ]
  },
  {
   "cell_type": "code",
   "execution_count": 4,
   "metadata": {},
   "outputs": [],
   "source": [
    "og_warranty=2 #original warranty term\n",
    "rev= 250 #revenue per product\n",
    "cost=150 #cost per product\n",
    "profit=rev-cost\n",
    "profit_list=[]\n",
    "\n",
    "for i in range (5000):                         #runs 5000 iterations \n",
    "    life=weibull_min.rvs(k, loc=0, scale=lam)  #randomly generates a lifetime from given distribution\n",
    "    if life>=og_warranty:\n",
    "        profit_list.append(profit)\n",
    "    else:\n",
    "        new_cam_no=1\n",
    "        new_warranty=og_warranty-life\n",
    "        new_life=weibull_min.rvs(k, loc=0, scale=lam)\n",
    "        while(new_life<new_warranty):         #calculates how many replacements would be required for given iteration\n",
    "            new_cam_no+=1\n",
    "            new_warranty=new_warranty-new_life\n",
    "            new_life=weibull_min.rvs(k, loc=0, scale=lam)\n",
    "        p=profit-(new_cam_no*cost)\n",
    "        profit_list.append(p)"
   ]
  },
  {
   "cell_type": "code",
   "execution_count": 5,
   "metadata": {},
   "outputs": [
    {
     "data": {
      "text/plain": [
       "(array([   7.,    0.,   74.,    0.,  288.,    0.,  921.,    0., 1868.,\n",
       "        1842.]),\n",
       " array([-650., -575., -500., -425., -350., -275., -200., -125.,  -50.,\n",
       "          25.,  100.]),\n",
       " <BarContainer object of 10 artists>)"
      ]
     },
     "execution_count": 5,
     "metadata": {},
     "output_type": "execute_result"
    },
    {
     "data": {
      "image/png": "[encoded data removed]",
      "text/plain": [
       "<Figure size 432x288 with 1 Axes>"
      ]
     },
     "metadata": {
      "needs_background": "light"
     },
     "output_type": "display_data"
    }
   ],
   "source": [
    "#Generates a histogram of profits simulated\n",
    "plt.hist(profit_list)"
   ]
  },
  {
   "cell_type": "code",
   "execution_count": 6,
   "metadata": {},
   "outputs": [
    {
     "name": "stdout",
     "output_type": "stream",
     "text": [
      "-47.15\n"
     ]
    }
   ],
   "source": [
    "#Average profit \n",
    "avg_p= sum(profit_list)/len(profit_list)\n",
    "print(avg_p)"
   ]
  },
  {
   "cell_type": "code",
   "execution_count": null,
   "metadata": {},
   "outputs": [],
   "source": []
  }
 ],
 "metadata": {
  "kernelspec": {
   "display_name": "Python 3",
   "language": "python",
   "name": "python3"
  },
  "language_info": {
   "codemirror_mode": {
    "name": "ipython",
    "version": 3
   },
   "file_extension": ".py",
   "mimetype": "text/x-python",
   "name": "python",
   "nbconvert_exporter": "python",
   "pygments_lexer": "ipython3",
   "version": "3.8.8"
  },
  "toc": {
   "base_numbering": 1,
   "nav_menu": {},
   "number_sections": true,
   "sideBar": true,
   "skip_h1_title": false,
   "title_cell": "Table of Contents",
   "title_sidebar": "Contents",
   "toc_cell": true,
   "toc_position": {
    "height": "calc(100% - 180px)",
    "left": "10px",
    "top": "150px",
    "width": "248.182px"
   },
   "toc_section_display": true,
   "toc_window_display": true
  }
 },
 "nbformat": 4,
 "nbformat_minor": 4
}
